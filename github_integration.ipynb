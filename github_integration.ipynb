{
 "cells": [
  {
   "cell_type": "code",
   "execution_count": 123,
   "outputs": [],
   "source": [
    "import base64\n",
    "\n",
    "from requests import get\n",
    "from fnmatch import fnmatch\n",
    "from creds import github_url, github_token"
   ],
   "metadata": {
    "collapsed": false,
    "ExecuteTime": {
     "end_time": "2023-07-25T14:22:25.382972Z",
     "start_time": "2023-07-25T14:22:25.369786Z"
    }
   }
  },
  {
   "cell_type": "code",
   "execution_count": 124,
   "outputs": [],
   "source": [
    "def __parse_github_url(url):\n",
    "    parts = url.strip(\"/\").split(\"/\")\n",
    "    owner = parts[-2]\n",
    "    repo = parts[-1]\n",
    "    return owner, repo"
   ],
   "metadata": {
    "collapsed": false,
    "ExecuteTime": {
     "end_time": "2023-07-25T14:22:25.987910Z",
     "start_time": "2023-07-25T14:22:25.984008Z"
    }
   }
  },
  {
   "cell_type": "code",
   "execution_count": 125,
   "outputs": [],
   "source": [
    "def fetch_repo(url: str) -> list:\n",
    "    \"\"\" Fetch the repository tree for the provided url \"\"\"\n",
    "    owner, repo = __parse_github_url(url)\n",
    "    url = f\"https://api.github.com/repos/{owner}/{repo}/git/trees/main?recursive=1\"\n",
    "    headers = {\n",
    "        \"Authorization\": f\"token {github_token}\",\n",
    "        \"Accept\": \"application/vnd.github+json\"\n",
    "    }\n",
    "    response = get(url, headers=headers)\n",
    "    if response.status_code == 200:\n",
    "        content = response.json()\n",
    "        return content[\"tree\"]\n",
    "    else:\n",
    "        raise ValueError(f\"Error fetching repo contents: {response.status_code}\")"
   ],
   "metadata": {
    "collapsed": false,
    "ExecuteTime": {
     "end_time": "2023-07-25T14:22:26.478775Z",
     "start_time": "2023-07-25T14:22:26.475101Z"
    }
   }
  },
  {
   "cell_type": "code",
   "execution_count": 126,
   "outputs": [],
   "source": [
    "def fetch_code(file_url: str) -> str:\n",
    "    response = get(file_url)\n",
    "    if response.status_code == 200:\n",
    "        content = response.json()[\"content\"]\n",
    "        return base64.b64decode(content).decode('utf-8')"
   ],
   "metadata": {
    "collapsed": false,
    "ExecuteTime": {
     "end_time": "2023-07-25T14:22:26.986481Z",
     "start_time": "2023-07-25T14:22:26.983874Z"
    }
   }
  },
  {
   "cell_type": "code",
   "execution_count": 127,
   "outputs": [],
   "source": [
    "def get_pull_requests(url: str):\n",
    "    owner, repo = __parse_github_url(url)\n",
    "    url = f'https://api.github.com/repos/{owner}/{repo}/pulls'\n",
    "    headers = {'Authorization': f'token {github_token}'}\n",
    "    response = get(url, headers=headers)\n",
    "\n",
    "    if response.status_code == 200:\n",
    "        pr_data = response.json()\n",
    "        return pr_data\n",
    "    else:\n",
    "        print(f\"Error: Unable to fetch pull requests. Status code: {response.status_code}\")\n",
    "        return None"
   ],
   "metadata": {
    "collapsed": false,
    "ExecuteTime": {
     "end_time": "2023-07-25T14:22:27.446494Z",
     "start_time": "2023-07-25T14:22:27.439960Z"
    }
   }
  },
  {
   "cell_type": "code",
   "execution_count": 128,
   "outputs": [],
   "source": [
    "def get_pull_request_changes(pr_url: str):\n",
    "    url = f'{pr_url}/files'\n",
    "    headers = {'Authorization': f'token {github_token}'}\n",
    "    response = get(url, headers=headers)\n",
    "\n",
    "    if response.status_code == 200:\n",
    "        return response.json()"
   ],
   "metadata": {
    "collapsed": false,
    "ExecuteTime": {
     "end_time": "2023-07-25T14:22:27.873526Z",
     "start_time": "2023-07-25T14:22:27.865530Z"
    }
   }
  },
  {
   "cell_type": "code",
   "execution_count": 129,
   "outputs": [],
   "source": [
    "def get_commit_history(url: str):\n",
    "    owner, repo = __parse_github_url(url)\n",
    "    url = f'https://api.github.com/repos/{owner}/{repo}/commits'\n",
    "    headers = {'Authorization': f'token {github_token}'}\n",
    "    response = get(url, headers=headers)\n",
    "\n",
    "    if response.status_code == 200:\n",
    "        commits_data = response.json()\n",
    "        return commits_data\n",
    "    else:\n",
    "        print(f\"Error: Unable to fetch commit history. Status code: {response.status_code}\")\n",
    "        return None"
   ],
   "metadata": {
    "collapsed": false,
    "ExecuteTime": {
     "end_time": "2023-07-25T14:22:28.285027Z",
     "start_time": "2023-07-25T14:22:28.281092Z"
    }
   }
  },
  {
   "cell_type": "code",
   "execution_count": 130,
   "outputs": [],
   "source": [
    "def get_commit_change(url: str, commit_sha: str):\n",
    "    owner, repo = __parse_github_url(url)\n",
    "    url = f'https://api.github.com/repos/{owner}/{repo}/commits/{commit_sha}'\n",
    "    headers = {'Authorization': f'token {github_token}'}\n",
    "    response = get(url, headers=headers)\n",
    "\n",
    "    if response.status_code == 200:\n",
    "        return response.json()\n"
   ],
   "metadata": {
    "collapsed": false,
    "ExecuteTime": {
     "end_time": "2023-07-25T14:22:28.728807Z",
     "start_time": "2023-07-25T14:22:28.723005Z"
    }
   }
  },
  {
   "cell_type": "code",
   "execution_count": 131,
   "outputs": [],
   "source": [
    "code_files = fetch_repo(github_url)"
   ],
   "metadata": {
    "collapsed": false,
    "ExecuteTime": {
     "end_time": "2023-07-25T14:22:29.484688Z",
     "start_time": "2023-07-25T14:22:29.109479Z"
    }
   }
  },
  {
   "cell_type": "code",
   "execution_count": 132,
   "outputs": [
    {
     "name": "stdout",
     "output_type": "stream",
     "text": [
      "from flask import Flask, request\n",
      "from google_api_connection import get_volumes, get_volume_info\n",
      "\n",
      "app = Flask(__name__)\n",
      "\n",
      "@app.get(\"/volumes\")\n",
      "def all_volumes():\n",
      "    return get_volumes(request.args['q'])\n",
      "\n",
      "@app.get(\"/volumes/<volume_id>\")\n",
      "def volume_info(volume_id: str) -> str:\n",
      "    return get_volume_info(volume_id=volume_id)['volumeInfo']\n",
      "\n",
      "\"\"\" A list of methods which integrate with Google APIs\"\"\"\n",
      "\n",
      "import requests\n",
      "\n",
      "BASE_URI = \"https://www.googleapis.com/books/v1/volumes\"\n",
      "\n",
      "\n",
      "def get_volumes(query: str):\n",
      "    \"\"\" Get list of items that match the requested query\"\"\"\n",
      "    response = requests.get(f\"{BASE_URI}?q={query}\", timeout=1000)\n",
      "    return response.json()\n",
      "\n",
      "\n",
      "def get_volume_info(volume_id: str):\n",
      "    \"\"\" Get specific information about the provided volume_id\"\"\"\n",
      "    response = requests.get(f\"{BASE_URI}/{volume_id}\", timeout=1000)\n",
      "    return response.json()\n",
      "\n",
      "print(get_volume_info(\"t_ZYYXZq4RgC\"))\n",
      "    \n"
     ]
    }
   ],
   "source": [
    "for file in code_files:\n",
    "    if file[\"type\"] == \"blob\" and fnmatch(file[\"path\"], \"*.py\"):\n",
    "        code = fetch_code(file['url'])\n",
    "        print(code)"
   ],
   "metadata": {
    "collapsed": false,
    "ExecuteTime": {
     "end_time": "2023-07-25T14:22:30.028720Z",
     "start_time": "2023-07-25T14:22:29.522152Z"
    }
   }
  },
  {
   "cell_type": "code",
   "execution_count": 133,
   "outputs": [
    {
     "name": "stdout",
     "output_type": "stream",
     "text": [
      "@@ -1,4 +1,4 @@\n",
      "-from flask import Flask, request, jsonify\n",
      "+from flask import Flask, request\n",
      " from google_api_connection import get_volumes, get_volume_info\n",
      " \n",
      " app = Flask(__name__)\n",
      "@@ -10,4 +10,3 @@ def all_volumes():\n",
      " @app.get(\"/volumes/<volume_id>\")\n",
      " def volume_info(volume_id: str) -> str:\n",
      "     return get_volume_info(volume_id=volume_id)['volumeInfo']\n",
      "-\n"
     ]
    }
   ],
   "source": [
    "commit_history = get_commit_history(github_url)\n",
    "commit_change = get_commit_change(github_url, commit_history[2]['sha'])\n",
    "print(commit_change['files'][1]['patch'])"
   ],
   "metadata": {
    "collapsed": false,
    "ExecuteTime": {
     "end_time": "2023-07-25T14:22:30.604594Z",
     "start_time": "2023-07-25T14:22:30.042445Z"
    }
   }
  },
  {
   "cell_type": "code",
   "execution_count": 134,
   "outputs": [
    {
     "name": "stdout",
     "output_type": "stream",
     "text": [
      "@@ -4,5 +4,3 @@\n",
      " \n",
      " * Get all volumes: ```/volumes```\n",
      " * Get Volume Info: ```/volumes/<volume_id>```\n",
      "-    \n",
      "-Adding something to test PR setup\n"
     ]
    }
   ],
   "source": [
    "pr_history = get_pull_requests(github_url)\n",
    "pr_changes = get_pull_request_changes(pr_history[0]['url'])\n",
    "print(pr_changes[0]['patch'])"
   ],
   "metadata": {
    "collapsed": false,
    "ExecuteTime": {
     "end_time": "2023-07-25T14:22:32.446220Z",
     "start_time": "2023-07-25T14:22:31.778595Z"
    }
   }
  }
 ],
 "metadata": {
  "kernelspec": {
   "display_name": "Python 3",
   "language": "python",
   "name": "python3"
  },
  "language_info": {
   "codemirror_mode": {
    "name": "ipython",
    "version": 2
   },
   "file_extension": ".py",
   "mimetype": "text/x-python",
   "name": "python",
   "nbconvert_exporter": "python",
   "pygments_lexer": "ipython2",
   "version": "2.7.6"
  }
 },
 "nbformat": 4,
 "nbformat_minor": 0
}
